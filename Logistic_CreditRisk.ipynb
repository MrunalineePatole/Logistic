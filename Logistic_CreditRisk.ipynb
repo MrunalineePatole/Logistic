{
 "cells": [
  {
   "cell_type": "code",
   "execution_count": 109,
   "metadata": {},
   "outputs": [],
   "source": [
    "import pandas as pd"
   ]
  },
  {
   "cell_type": "code",
   "execution_count": 130,
   "metadata": {},
   "outputs": [],
   "source": [
    "cr=pd.read_csv(\"E:/datasets/CreditRisk.csv\")"
   ]
  },
  {
   "cell_type": "code",
   "execution_count": 131,
   "metadata": {},
   "outputs": [
    {
     "data": {
      "text/html": [
       "<div>\n",
       "<style scoped>\n",
       "    .dataframe tbody tr th:only-of-type {\n",
       "        vertical-align: middle;\n",
       "    }\n",
       "\n",
       "    .dataframe tbody tr th {\n",
       "        vertical-align: top;\n",
       "    }\n",
       "\n",
       "    .dataframe thead th {\n",
       "        text-align: right;\n",
       "    }\n",
       "</style>\n",
       "<table border=\"1\" class=\"dataframe\">\n",
       "  <thead>\n",
       "    <tr style=\"text-align: right;\">\n",
       "      <th></th>\n",
       "      <th>Loan_ID</th>\n",
       "      <th>Gender</th>\n",
       "      <th>Married</th>\n",
       "      <th>Dependents</th>\n",
       "      <th>Education</th>\n",
       "      <th>Self_Employed</th>\n",
       "      <th>ApplicantIncome</th>\n",
       "      <th>CoapplicantIncome</th>\n",
       "      <th>LoanAmount</th>\n",
       "      <th>Loan_Amount_Term</th>\n",
       "      <th>Credit_History</th>\n",
       "      <th>Property_Area</th>\n",
       "      <th>Loan_Status</th>\n",
       "    </tr>\n",
       "  </thead>\n",
       "  <tbody>\n",
       "    <tr>\n",
       "      <th>0</th>\n",
       "      <td>LP001002</td>\n",
       "      <td>Male</td>\n",
       "      <td>No</td>\n",
       "      <td>0.0</td>\n",
       "      <td>Graduate</td>\n",
       "      <td>No</td>\n",
       "      <td>5849</td>\n",
       "      <td>0.0</td>\n",
       "      <td>NaN</td>\n",
       "      <td>360.0</td>\n",
       "      <td>1.0</td>\n",
       "      <td>Urban</td>\n",
       "      <td>Y</td>\n",
       "    </tr>\n",
       "    <tr>\n",
       "      <th>1</th>\n",
       "      <td>LP001003</td>\n",
       "      <td>Male</td>\n",
       "      <td>Yes</td>\n",
       "      <td>1.0</td>\n",
       "      <td>Graduate</td>\n",
       "      <td>No</td>\n",
       "      <td>4583</td>\n",
       "      <td>1508.0</td>\n",
       "      <td>128.0</td>\n",
       "      <td>360.0</td>\n",
       "      <td>1.0</td>\n",
       "      <td>Rural</td>\n",
       "      <td>N</td>\n",
       "    </tr>\n",
       "    <tr>\n",
       "      <th>2</th>\n",
       "      <td>LP001005</td>\n",
       "      <td>Male</td>\n",
       "      <td>Yes</td>\n",
       "      <td>0.0</td>\n",
       "      <td>Graduate</td>\n",
       "      <td>Yes</td>\n",
       "      <td>3000</td>\n",
       "      <td>0.0</td>\n",
       "      <td>66.0</td>\n",
       "      <td>360.0</td>\n",
       "      <td>1.0</td>\n",
       "      <td>Urban</td>\n",
       "      <td>Y</td>\n",
       "    </tr>\n",
       "    <tr>\n",
       "      <th>3</th>\n",
       "      <td>LP001006</td>\n",
       "      <td>Male</td>\n",
       "      <td>Yes</td>\n",
       "      <td>0.0</td>\n",
       "      <td>Not Graduate</td>\n",
       "      <td>No</td>\n",
       "      <td>2583</td>\n",
       "      <td>2358.0</td>\n",
       "      <td>120.0</td>\n",
       "      <td>360.0</td>\n",
       "      <td>1.0</td>\n",
       "      <td>Urban</td>\n",
       "      <td>Y</td>\n",
       "    </tr>\n",
       "    <tr>\n",
       "      <th>4</th>\n",
       "      <td>LP001008</td>\n",
       "      <td>Male</td>\n",
       "      <td>No</td>\n",
       "      <td>0.0</td>\n",
       "      <td>Graduate</td>\n",
       "      <td>No</td>\n",
       "      <td>6000</td>\n",
       "      <td>0.0</td>\n",
       "      <td>141.0</td>\n",
       "      <td>360.0</td>\n",
       "      <td>1.0</td>\n",
       "      <td>Urban</td>\n",
       "      <td>Y</td>\n",
       "    </tr>\n",
       "  </tbody>\n",
       "</table>\n",
       "</div>"
      ],
      "text/plain": [
       "    Loan_ID Gender Married  Dependents     Education Self_Employed  \\\n",
       "0  LP001002   Male      No         0.0      Graduate            No   \n",
       "1  LP001003   Male     Yes         1.0      Graduate            No   \n",
       "2  LP001005   Male     Yes         0.0      Graduate           Yes   \n",
       "3  LP001006   Male     Yes         0.0  Not Graduate            No   \n",
       "4  LP001008   Male      No         0.0      Graduate            No   \n",
       "\n",
       "   ApplicantIncome  CoapplicantIncome  LoanAmount  Loan_Amount_Term  \\\n",
       "0             5849                0.0         NaN             360.0   \n",
       "1             4583             1508.0       128.0             360.0   \n",
       "2             3000                0.0        66.0             360.0   \n",
       "3             2583             2358.0       120.0             360.0   \n",
       "4             6000                0.0       141.0             360.0   \n",
       "\n",
       "   Credit_History Property_Area Loan_Status  \n",
       "0             1.0         Urban           Y  \n",
       "1             1.0         Rural           N  \n",
       "2             1.0         Urban           Y  \n",
       "3             1.0         Urban           Y  \n",
       "4             1.0         Urban           Y  "
      ]
     },
     "execution_count": 131,
     "metadata": {},
     "output_type": "execute_result"
    }
   ],
   "source": [
    "cr.head()"
   ]
  },
  {
   "cell_type": "code",
   "execution_count": 132,
   "metadata": {},
   "outputs": [
    {
     "data": {
      "text/plain": [
       "Loan_ID               0\n",
       "Gender               24\n",
       "Married               3\n",
       "Dependents           25\n",
       "Education             0\n",
       "Self_Employed        55\n",
       "ApplicantIncome       0\n",
       "CoapplicantIncome     0\n",
       "LoanAmount           27\n",
       "Loan_Amount_Term     20\n",
       "Credit_History       79\n",
       "Property_Area         0\n",
       "Loan_Status           0\n",
       "dtype: int64"
      ]
     },
     "execution_count": 132,
     "metadata": {},
     "output_type": "execute_result"
    }
   ],
   "source": [
    "cr.isnull().sum()"
   ]
  },
  {
   "cell_type": "code",
   "execution_count": 133,
   "metadata": {},
   "outputs": [],
   "source": [
    "cr=cr.iloc[:,[1,2,3,4,5,6,7,8,9,10,11,12]]"
   ]
  },
  {
   "cell_type": "code",
   "execution_count": 134,
   "metadata": {},
   "outputs": [
    {
     "data": {
      "text/html": [
       "<div>\n",
       "<style scoped>\n",
       "    .dataframe tbody tr th:only-of-type {\n",
       "        vertical-align: middle;\n",
       "    }\n",
       "\n",
       "    .dataframe tbody tr th {\n",
       "        vertical-align: top;\n",
       "    }\n",
       "\n",
       "    .dataframe thead th {\n",
       "        text-align: right;\n",
       "    }\n",
       "</style>\n",
       "<table border=\"1\" class=\"dataframe\">\n",
       "  <thead>\n",
       "    <tr style=\"text-align: right;\">\n",
       "      <th></th>\n",
       "      <th>Gender</th>\n",
       "      <th>Married</th>\n",
       "      <th>Dependents</th>\n",
       "      <th>Education</th>\n",
       "      <th>Self_Employed</th>\n",
       "      <th>ApplicantIncome</th>\n",
       "      <th>CoapplicantIncome</th>\n",
       "      <th>LoanAmount</th>\n",
       "      <th>Loan_Amount_Term</th>\n",
       "      <th>Credit_History</th>\n",
       "      <th>Property_Area</th>\n",
       "      <th>Loan_Status</th>\n",
       "    </tr>\n",
       "  </thead>\n",
       "  <tbody>\n",
       "    <tr>\n",
       "      <th>0</th>\n",
       "      <td>Male</td>\n",
       "      <td>No</td>\n",
       "      <td>0.0</td>\n",
       "      <td>Graduate</td>\n",
       "      <td>No</td>\n",
       "      <td>5849</td>\n",
       "      <td>0.0</td>\n",
       "      <td>NaN</td>\n",
       "      <td>360.0</td>\n",
       "      <td>1.0</td>\n",
       "      <td>Urban</td>\n",
       "      <td>Y</td>\n",
       "    </tr>\n",
       "    <tr>\n",
       "      <th>1</th>\n",
       "      <td>Male</td>\n",
       "      <td>Yes</td>\n",
       "      <td>1.0</td>\n",
       "      <td>Graduate</td>\n",
       "      <td>No</td>\n",
       "      <td>4583</td>\n",
       "      <td>1508.0</td>\n",
       "      <td>128.0</td>\n",
       "      <td>360.0</td>\n",
       "      <td>1.0</td>\n",
       "      <td>Rural</td>\n",
       "      <td>N</td>\n",
       "    </tr>\n",
       "    <tr>\n",
       "      <th>2</th>\n",
       "      <td>Male</td>\n",
       "      <td>Yes</td>\n",
       "      <td>0.0</td>\n",
       "      <td>Graduate</td>\n",
       "      <td>Yes</td>\n",
       "      <td>3000</td>\n",
       "      <td>0.0</td>\n",
       "      <td>66.0</td>\n",
       "      <td>360.0</td>\n",
       "      <td>1.0</td>\n",
       "      <td>Urban</td>\n",
       "      <td>Y</td>\n",
       "    </tr>\n",
       "    <tr>\n",
       "      <th>3</th>\n",
       "      <td>Male</td>\n",
       "      <td>Yes</td>\n",
       "      <td>0.0</td>\n",
       "      <td>Not Graduate</td>\n",
       "      <td>No</td>\n",
       "      <td>2583</td>\n",
       "      <td>2358.0</td>\n",
       "      <td>120.0</td>\n",
       "      <td>360.0</td>\n",
       "      <td>1.0</td>\n",
       "      <td>Urban</td>\n",
       "      <td>Y</td>\n",
       "    </tr>\n",
       "    <tr>\n",
       "      <th>4</th>\n",
       "      <td>Male</td>\n",
       "      <td>No</td>\n",
       "      <td>0.0</td>\n",
       "      <td>Graduate</td>\n",
       "      <td>No</td>\n",
       "      <td>6000</td>\n",
       "      <td>0.0</td>\n",
       "      <td>141.0</td>\n",
       "      <td>360.0</td>\n",
       "      <td>1.0</td>\n",
       "      <td>Urban</td>\n",
       "      <td>Y</td>\n",
       "    </tr>\n",
       "  </tbody>\n",
       "</table>\n",
       "</div>"
      ],
      "text/plain": [
       "  Gender Married  Dependents     Education Self_Employed  ApplicantIncome  \\\n",
       "0   Male      No         0.0      Graduate            No             5849   \n",
       "1   Male     Yes         1.0      Graduate            No             4583   \n",
       "2   Male     Yes         0.0      Graduate           Yes             3000   \n",
       "3   Male     Yes         0.0  Not Graduate            No             2583   \n",
       "4   Male      No         0.0      Graduate            No             6000   \n",
       "\n",
       "   CoapplicantIncome  LoanAmount  Loan_Amount_Term  Credit_History  \\\n",
       "0                0.0         NaN             360.0             1.0   \n",
       "1             1508.0       128.0             360.0             1.0   \n",
       "2                0.0        66.0             360.0             1.0   \n",
       "3             2358.0       120.0             360.0             1.0   \n",
       "4                0.0       141.0             360.0             1.0   \n",
       "\n",
       "  Property_Area Loan_Status  \n",
       "0         Urban           Y  \n",
       "1         Rural           N  \n",
       "2         Urban           Y  \n",
       "3         Urban           Y  \n",
       "4         Urban           Y  "
      ]
     },
     "execution_count": 134,
     "metadata": {},
     "output_type": "execute_result"
    }
   ],
   "source": [
    "cr.head()"
   ]
  },
  {
   "cell_type": "code",
   "execution_count": 135,
   "metadata": {},
   "outputs": [
    {
     "data": {
      "text/html": [
       "<div>\n",
       "<style scoped>\n",
       "    .dataframe tbody tr th:only-of-type {\n",
       "        vertical-align: middle;\n",
       "    }\n",
       "\n",
       "    .dataframe tbody tr th {\n",
       "        vertical-align: top;\n",
       "    }\n",
       "\n",
       "    .dataframe thead th {\n",
       "        text-align: right;\n",
       "    }\n",
       "</style>\n",
       "<table border=\"1\" class=\"dataframe\">\n",
       "  <thead>\n",
       "    <tr style=\"text-align: right;\">\n",
       "      <th></th>\n",
       "      <th>Gender</th>\n",
       "      <th>Married</th>\n",
       "      <th>Dependents</th>\n",
       "      <th>Education</th>\n",
       "      <th>Self_Employed</th>\n",
       "      <th>ApplicantIncome</th>\n",
       "      <th>CoapplicantIncome</th>\n",
       "      <th>LoanAmount</th>\n",
       "      <th>Loan_Amount_Term</th>\n",
       "      <th>Credit_History</th>\n",
       "      <th>Property_Area</th>\n",
       "      <th>Loan_Status</th>\n",
       "    </tr>\n",
       "  </thead>\n",
       "  <tbody>\n",
       "    <tr>\n",
       "      <th>count</th>\n",
       "      <td>957</td>\n",
       "      <td>978</td>\n",
       "      <td>956.000000</td>\n",
       "      <td>981</td>\n",
       "      <td>926</td>\n",
       "      <td>981.000000</td>\n",
       "      <td>981.000000</td>\n",
       "      <td>954.000000</td>\n",
       "      <td>961.000000</td>\n",
       "      <td>902.000000</td>\n",
       "      <td>981</td>\n",
       "      <td>981</td>\n",
       "    </tr>\n",
       "    <tr>\n",
       "      <th>unique</th>\n",
       "      <td>2</td>\n",
       "      <td>2</td>\n",
       "      <td>NaN</td>\n",
       "      <td>2</td>\n",
       "      <td>2</td>\n",
       "      <td>NaN</td>\n",
       "      <td>NaN</td>\n",
       "      <td>NaN</td>\n",
       "      <td>NaN</td>\n",
       "      <td>NaN</td>\n",
       "      <td>3</td>\n",
       "      <td>2</td>\n",
       "    </tr>\n",
       "    <tr>\n",
       "      <th>top</th>\n",
       "      <td>Male</td>\n",
       "      <td>Yes</td>\n",
       "      <td>NaN</td>\n",
       "      <td>Graduate</td>\n",
       "      <td>No</td>\n",
       "      <td>NaN</td>\n",
       "      <td>NaN</td>\n",
       "      <td>NaN</td>\n",
       "      <td>NaN</td>\n",
       "      <td>NaN</td>\n",
       "      <td>Semiurban</td>\n",
       "      <td>Y</td>\n",
       "    </tr>\n",
       "    <tr>\n",
       "      <th>freq</th>\n",
       "      <td>775</td>\n",
       "      <td>631</td>\n",
       "      <td>NaN</td>\n",
       "      <td>763</td>\n",
       "      <td>807</td>\n",
       "      <td>NaN</td>\n",
       "      <td>NaN</td>\n",
       "      <td>NaN</td>\n",
       "      <td>NaN</td>\n",
       "      <td>NaN</td>\n",
       "      <td>349</td>\n",
       "      <td>712</td>\n",
       "    </tr>\n",
       "    <tr>\n",
       "      <th>mean</th>\n",
       "      <td>NaN</td>\n",
       "      <td>NaN</td>\n",
       "      <td>0.881799</td>\n",
       "      <td>NaN</td>\n",
       "      <td>NaN</td>\n",
       "      <td>5179.795107</td>\n",
       "      <td>1601.916330</td>\n",
       "      <td>142.511530</td>\n",
       "      <td>342.201873</td>\n",
       "      <td>0.835920</td>\n",
       "      <td>NaN</td>\n",
       "      <td>NaN</td>\n",
       "    </tr>\n",
       "    <tr>\n",
       "      <th>std</th>\n",
       "      <td>NaN</td>\n",
       "      <td>NaN</td>\n",
       "      <td>1.255623</td>\n",
       "      <td>NaN</td>\n",
       "      <td>NaN</td>\n",
       "      <td>5695.104533</td>\n",
       "      <td>2718.772806</td>\n",
       "      <td>77.421743</td>\n",
       "      <td>65.100602</td>\n",
       "      <td>0.370553</td>\n",
       "      <td>NaN</td>\n",
       "      <td>NaN</td>\n",
       "    </tr>\n",
       "    <tr>\n",
       "      <th>min</th>\n",
       "      <td>NaN</td>\n",
       "      <td>NaN</td>\n",
       "      <td>0.000000</td>\n",
       "      <td>NaN</td>\n",
       "      <td>NaN</td>\n",
       "      <td>0.000000</td>\n",
       "      <td>0.000000</td>\n",
       "      <td>9.000000</td>\n",
       "      <td>6.000000</td>\n",
       "      <td>0.000000</td>\n",
       "      <td>NaN</td>\n",
       "      <td>NaN</td>\n",
       "    </tr>\n",
       "    <tr>\n",
       "      <th>25%</th>\n",
       "      <td>NaN</td>\n",
       "      <td>NaN</td>\n",
       "      <td>0.000000</td>\n",
       "      <td>NaN</td>\n",
       "      <td>NaN</td>\n",
       "      <td>2875.000000</td>\n",
       "      <td>0.000000</td>\n",
       "      <td>100.000000</td>\n",
       "      <td>360.000000</td>\n",
       "      <td>1.000000</td>\n",
       "      <td>NaN</td>\n",
       "      <td>NaN</td>\n",
       "    </tr>\n",
       "    <tr>\n",
       "      <th>50%</th>\n",
       "      <td>NaN</td>\n",
       "      <td>NaN</td>\n",
       "      <td>0.000000</td>\n",
       "      <td>NaN</td>\n",
       "      <td>NaN</td>\n",
       "      <td>3800.000000</td>\n",
       "      <td>1110.000000</td>\n",
       "      <td>126.000000</td>\n",
       "      <td>360.000000</td>\n",
       "      <td>1.000000</td>\n",
       "      <td>NaN</td>\n",
       "      <td>NaN</td>\n",
       "    </tr>\n",
       "    <tr>\n",
       "      <th>75%</th>\n",
       "      <td>NaN</td>\n",
       "      <td>NaN</td>\n",
       "      <td>2.000000</td>\n",
       "      <td>NaN</td>\n",
       "      <td>NaN</td>\n",
       "      <td>5516.000000</td>\n",
       "      <td>2365.000000</td>\n",
       "      <td>162.000000</td>\n",
       "      <td>360.000000</td>\n",
       "      <td>1.000000</td>\n",
       "      <td>NaN</td>\n",
       "      <td>NaN</td>\n",
       "    </tr>\n",
       "    <tr>\n",
       "      <th>max</th>\n",
       "      <td>NaN</td>\n",
       "      <td>NaN</td>\n",
       "      <td>4.000000</td>\n",
       "      <td>NaN</td>\n",
       "      <td>NaN</td>\n",
       "      <td>81000.000000</td>\n",
       "      <td>41667.000000</td>\n",
       "      <td>700.000000</td>\n",
       "      <td>480.000000</td>\n",
       "      <td>1.000000</td>\n",
       "      <td>NaN</td>\n",
       "      <td>NaN</td>\n",
       "    </tr>\n",
       "  </tbody>\n",
       "</table>\n",
       "</div>"
      ],
      "text/plain": [
       "       Gender Married  Dependents Education Self_Employed  ApplicantIncome  \\\n",
       "count     957     978  956.000000       981           926       981.000000   \n",
       "unique      2       2         NaN         2             2              NaN   \n",
       "top      Male     Yes         NaN  Graduate            No              NaN   \n",
       "freq      775     631         NaN       763           807              NaN   \n",
       "mean      NaN     NaN    0.881799       NaN           NaN      5179.795107   \n",
       "std       NaN     NaN    1.255623       NaN           NaN      5695.104533   \n",
       "min       NaN     NaN    0.000000       NaN           NaN         0.000000   \n",
       "25%       NaN     NaN    0.000000       NaN           NaN      2875.000000   \n",
       "50%       NaN     NaN    0.000000       NaN           NaN      3800.000000   \n",
       "75%       NaN     NaN    2.000000       NaN           NaN      5516.000000   \n",
       "max       NaN     NaN    4.000000       NaN           NaN     81000.000000   \n",
       "\n",
       "        CoapplicantIncome  LoanAmount  Loan_Amount_Term  Credit_History  \\\n",
       "count          981.000000  954.000000        961.000000      902.000000   \n",
       "unique                NaN         NaN               NaN             NaN   \n",
       "top                   NaN         NaN               NaN             NaN   \n",
       "freq                  NaN         NaN               NaN             NaN   \n",
       "mean          1601.916330  142.511530        342.201873        0.835920   \n",
       "std           2718.772806   77.421743         65.100602        0.370553   \n",
       "min              0.000000    9.000000          6.000000        0.000000   \n",
       "25%              0.000000  100.000000        360.000000        1.000000   \n",
       "50%           1110.000000  126.000000        360.000000        1.000000   \n",
       "75%           2365.000000  162.000000        360.000000        1.000000   \n",
       "max          41667.000000  700.000000        480.000000        1.000000   \n",
       "\n",
       "       Property_Area Loan_Status  \n",
       "count            981         981  \n",
       "unique             3           2  \n",
       "top        Semiurban           Y  \n",
       "freq             349         712  \n",
       "mean             NaN         NaN  \n",
       "std              NaN         NaN  \n",
       "min              NaN         NaN  \n",
       "25%              NaN         NaN  \n",
       "50%              NaN         NaN  \n",
       "75%              NaN         NaN  \n",
       "max              NaN         NaN  "
      ]
     },
     "execution_count": 135,
     "metadata": {},
     "output_type": "execute_result"
    }
   ],
   "source": [
    "cr.describe(include=\"all\")"
   ]
  },
  {
   "cell_type": "code",
   "execution_count": 136,
   "metadata": {},
   "outputs": [],
   "source": [
    "cr.Gender=cr.Gender.fillna(\"Male\")\n",
    "cr.Married=cr.Married.fillna(\"Yes\")\n",
    "cr.Dependents=cr.Dependents.fillna(cr.Dependents.median())\n",
    "cr.Self_Employed=cr.Self_Employed.fillna(\"No\")\n",
    "cr.LoanAmount=cr.LoanAmount.fillna(cr.LoanAmount.mean())\n",
    "cr.Loan_Amount_Term=cr.Loan_Amount_Term.fillna(cr.Loan_Amount_Term.median())\n",
    "cr.Credit_History=cr.Credit_History.fillna(cr.Credit_History.median())"
   ]
  },
  {
   "cell_type": "code",
   "execution_count": 137,
   "metadata": {},
   "outputs": [
    {
     "data": {
      "text/plain": [
       "Gender               0\n",
       "Married              0\n",
       "Dependents           0\n",
       "Education            0\n",
       "Self_Employed        0\n",
       "ApplicantIncome      0\n",
       "CoapplicantIncome    0\n",
       "LoanAmount           0\n",
       "Loan_Amount_Term     0\n",
       "Credit_History       0\n",
       "Property_Area        0\n",
       "Loan_Status          0\n",
       "dtype: int64"
      ]
     },
     "execution_count": 137,
     "metadata": {},
     "output_type": "execute_result"
    }
   ],
   "source": [
    "cr.isnull().sum()"
   ]
  },
  {
   "cell_type": "code",
   "execution_count": 138,
   "metadata": {},
   "outputs": [],
   "source": [
    "cr.Gender.replace({\"Male\": 1, \"Female\": 0}, inplace = True)\n",
    "cr.Married.replace({\"No\": 0, \"Yes\": 1}, inplace = True)\n",
    "cr.Education.replace({\"Graduate\" : 1, \"Not Graduate\": 0}, inplace = True)\n",
    "cr.Self_Employed.replace({\"No\": 0, \"Yes\": 1}, inplace = True)\n",
    "cr.Property_Area.replace({\"Semiurban\": 1, \"Urban\": 2, \"Rural\": 3}, inplace = True)\n",
    "cr.Loan_Status.replace({\"Y\": 1, \"N\": 0}, inplace = True)\n",
    "\n"
   ]
  },
  {
   "cell_type": "code",
   "execution_count": 139,
   "metadata": {},
   "outputs": [],
   "source": [
    "from sklearn.model_selection import train_test_split"
   ]
  },
  {
   "cell_type": "code",
   "execution_count": 140,
   "metadata": {},
   "outputs": [],
   "source": [
    "cr_train,cr_test=train_test_split(cr,test_size=0.2,random_state=555)"
   ]
  },
  {
   "cell_type": "code",
   "execution_count": 156,
   "metadata": {},
   "outputs": [],
   "source": [
    "cr_train_x=cr_train.iloc[:,0:-1]\n",
    "cr_train_y=cr_train.iloc[:,-1]\n",
    "cr_test_x=cr_test.iloc[:,0:-1]\n",
    "cr_test_y=cr_test.iloc[:,-1]"
   ]
  },
  {
   "cell_type": "code",
   "execution_count": 157,
   "metadata": {},
   "outputs": [],
   "source": [
    "from sklearn.linear_model import LogisticRegression\n",
    "lg=LogisticRegression()"
   ]
  },
  {
   "cell_type": "code",
   "execution_count": 158,
   "metadata": {},
   "outputs": [
    {
     "data": {
      "text/plain": [
       "LogisticRegression()"
      ]
     },
     "execution_count": 158,
     "metadata": {},
     "output_type": "execute_result"
    }
   ],
   "source": [
    "lg.fit(cr_train_x,cr_train_y)\n"
   ]
  },
  {
   "cell_type": "code",
   "execution_count": 159,
   "metadata": {},
   "outputs": [],
   "source": [
    "pred_test=lg.predict(cr_test_x)"
   ]
  },
  {
   "cell_type": "code",
   "execution_count": 164,
   "metadata": {},
   "outputs": [
    {
     "data": {
      "text/plain": [
       "array([[ 29,   2],\n",
       "       [ 32, 134]], dtype=int64)"
      ]
     },
     "execution_count": 164,
     "metadata": {},
     "output_type": "execute_result"
    }
   ],
   "source": [
    "from sklearn.metrics import confusion_matrix\n",
    "\n",
    "tab1 = confusion_matrix(pred_test, cr_test_y)\n",
    "tab1\n",
    "\n"
   ]
  },
  {
   "cell_type": "code",
   "execution_count": 165,
   "metadata": {},
   "outputs": [
    {
     "data": {
      "text/plain": [
       "array([ 29, 134], dtype=int64)"
      ]
     },
     "execution_count": 165,
     "metadata": {},
     "output_type": "execute_result"
    }
   ],
   "source": [
    "tab1.diagonal()"
   ]
  },
  {
   "cell_type": "code",
   "execution_count": 166,
   "metadata": {},
   "outputs": [
    {
     "data": {
      "text/plain": [
       "163"
      ]
     },
     "execution_count": 166,
     "metadata": {},
     "output_type": "execute_result"
    }
   ],
   "source": [
    "tab1.diagonal().sum()"
   ]
  },
  {
   "cell_type": "code",
   "execution_count": 168,
   "metadata": {},
   "outputs": [
    {
     "data": {
      "text/plain": [
       "82.74111675126903"
      ]
     },
     "execution_count": 168,
     "metadata": {},
     "output_type": "execute_result"
    }
   ],
   "source": [
    "\n",
    "accuracy=tab1.diagonal().sum()/tab1.sum()*100\n",
    "accuracy"
   ]
  },
  {
   "cell_type": "code",
   "execution_count": 169,
   "metadata": {},
   "outputs": [
    {
     "data": {
      "text/plain": [
       "0.9852941176470589"
      ]
     },
     "execution_count": 169,
     "metadata": {},
     "output_type": "execute_result"
    }
   ],
   "source": [
    "Tpr=tab1[1][1]/(tab1[1][1]+tab1[0][1])\n",
    "Tpr"
   ]
  },
  {
   "cell_type": "code",
   "execution_count": 174,
   "metadata": {},
   "outputs": [
    {
     "data": {
      "text/plain": [
       "0.8274111675126904"
      ]
     },
     "execution_count": 174,
     "metadata": {},
     "output_type": "execute_result"
    }
   ],
   "source": [
    "from sklearn.metrics import accuracy_score\n",
    "accuracy_score(cr_test_y,pred_test)"
   ]
  },
  {
   "cell_type": "code",
   "execution_count": 175,
   "metadata": {},
   "outputs": [
    {
     "data": {
      "text/plain": [
       "0.8072289156626506"
      ]
     },
     "execution_count": 175,
     "metadata": {},
     "output_type": "execute_result"
    }
   ],
   "source": [
    "from sklearn.metrics import precision_score\n",
    "precision_score(cr_test_y,pred_test)"
   ]
  },
  {
   "cell_type": "code",
   "execution_count": 176,
   "metadata": {},
   "outputs": [
    {
     "data": {
      "text/plain": [
       "0.9852941176470589"
      ]
     },
     "execution_count": 176,
     "metadata": {},
     "output_type": "execute_result"
    }
   ],
   "source": [
    "precision_score(pred_test,cr_test_y)"
   ]
  },
  {
   "cell_type": "code",
   "execution_count": 177,
   "metadata": {},
   "outputs": [
    {
     "data": {
      "text/plain": [
       "array([[ 1.33387710e-01,  4.98041626e-01,  1.84865645e-02,\n",
       "         5.85513679e-01,  1.11292120e-01,  2.52175603e-05,\n",
       "        -5.11653834e-05, -3.86722478e-03, -3.96472338e-03,\n",
       "         3.80597224e+00, -6.65486374e-01]])"
      ]
     },
     "execution_count": 177,
     "metadata": {},
     "output_type": "execute_result"
    }
   ],
   "source": [
    "lg.coef_f_"
   ]
  },
  {
   "cell_type": "code",
   "execution_count": 178,
   "metadata": {},
   "outputs": [
    {
     "data": {
      "text/plain": [
       "array([0.30098483])"
      ]
     },
     "execution_count": 178,
     "metadata": {},
     "output_type": "execute_result"
    }
   ],
   "source": [
    "lg.intercept_"
   ]
  },
  {
   "cell_type": "code",
   "execution_count": 179,
   "metadata": {},
   "outputs": [
    {
     "data": {
      "text/plain": [
       "array([[0.12177294, 0.87822706],\n",
       "       [0.09593909, 0.90406091],\n",
       "       [0.15622672, 0.84377328],\n",
       "       [0.94726593, 0.05273407],\n",
       "       [0.45418606, 0.54581394],\n",
       "       [0.08578398, 0.91421602],\n",
       "       [0.89396674, 0.10603326],\n",
       "       [0.03257467, 0.96742533],\n",
       "       [0.07371967, 0.92628033],\n",
       "       [0.81295028, 0.18704972],\n",
       "       [0.05311426, 0.94688574],\n",
       "       [0.0457981 , 0.9542019 ],\n",
       "       [0.11610693, 0.88389307],\n",
       "       [0.27568708, 0.72431292],\n",
       "       [0.04769098, 0.95230902],\n",
       "       [0.10483507, 0.89516493],\n",
       "       [0.14221883, 0.85778117],\n",
       "       [0.05237311, 0.94762689],\n",
       "       [0.9601005 , 0.0398995 ],\n",
       "       [0.22961438, 0.77038562],\n",
       "       [0.16664213, 0.83335787],\n",
       "       [0.10598448, 0.89401552],\n",
       "       [0.1646778 , 0.8353222 ],\n",
       "       [0.05662102, 0.94337898],\n",
       "       [0.94307817, 0.05692183],\n",
       "       [0.95019525, 0.04980475],\n",
       "       [0.16439155, 0.83560845],\n",
       "       [0.18815597, 0.81184403],\n",
       "       [0.06851523, 0.93148477],\n",
       "       [0.12020283, 0.87979717],\n",
       "       [0.24168434, 0.75831566],\n",
       "       [0.08419291, 0.91580709],\n",
       "       [0.25216819, 0.74783181],\n",
       "       [0.04320492, 0.95679508],\n",
       "       [0.95160195, 0.04839805],\n",
       "       [0.13463024, 0.86536976],\n",
       "       [0.0678923 , 0.9321077 ],\n",
       "       [0.29639389, 0.70360611],\n",
       "       [0.18838547, 0.81161453],\n",
       "       [0.10079289, 0.89920711],\n",
       "       [0.38823303, 0.61176697],\n",
       "       [0.06340161, 0.93659839],\n",
       "       [0.07245259, 0.92754741],\n",
       "       [0.17227285, 0.82772715],\n",
       "       [0.07399466, 0.92600534],\n",
       "       [0.17434637, 0.82565363],\n",
       "       [0.48598919, 0.51401081],\n",
       "       [0.86623036, 0.13376964],\n",
       "       [0.84265218, 0.15734782],\n",
       "       [0.40093978, 0.59906022],\n",
       "       [0.10265911, 0.89734089],\n",
       "       [0.05735555, 0.94264445],\n",
       "       [0.05711596, 0.94288404],\n",
       "       [0.04216767, 0.95783233],\n",
       "       [0.15135783, 0.84864217],\n",
       "       [0.94996777, 0.05003223],\n",
       "       [0.83895405, 0.16104595],\n",
       "       [0.12386998, 0.87613002],\n",
       "       [0.16678799, 0.83321201],\n",
       "       [0.96379487, 0.03620513],\n",
       "       [0.31300366, 0.68699634],\n",
       "       [0.14954967, 0.85045033],\n",
       "       [0.0914036 , 0.9085964 ],\n",
       "       [0.12568647, 0.87431353],\n",
       "       [0.02234713, 0.97765287],\n",
       "       [0.12465205, 0.87534795],\n",
       "       [0.29228227, 0.70771773],\n",
       "       [0.19295604, 0.80704396],\n",
       "       [0.0871933 , 0.9128067 ],\n",
       "       [0.73339206, 0.26660794],\n",
       "       [0.72322486, 0.27677514],\n",
       "       [0.10090484, 0.89909516],\n",
       "       [0.29204446, 0.70795554],\n",
       "       [0.19505464, 0.80494536],\n",
       "       [0.74491837, 0.25508163],\n",
       "       [0.89488811, 0.10511189],\n",
       "       [0.11647497, 0.88352503],\n",
       "       [0.19210671, 0.80789329],\n",
       "       [0.0541975 , 0.9458025 ],\n",
       "       [0.15041692, 0.84958308],\n",
       "       [0.78968083, 0.21031917],\n",
       "       [0.09336486, 0.90663514],\n",
       "       [0.18042708, 0.81957292],\n",
       "       [0.09774792, 0.90225208],\n",
       "       [0.36562741, 0.63437259],\n",
       "       [0.12353634, 0.87646366],\n",
       "       [0.11842864, 0.88157136],\n",
       "       [0.13418478, 0.86581522],\n",
       "       [0.81480597, 0.18519403],\n",
       "       [0.85427699, 0.14572301],\n",
       "       [0.06950953, 0.93049047],\n",
       "       [0.13067309, 0.86932691],\n",
       "       [0.07905923, 0.92094077],\n",
       "       [0.8527876 , 0.1472124 ],\n",
       "       [0.18363641, 0.81636359],\n",
       "       [0.06824437, 0.93175563],\n",
       "       [0.10932405, 0.89067595],\n",
       "       [0.07739371, 0.92260629],\n",
       "       [0.21538466, 0.78461534],\n",
       "       [0.14655335, 0.85344665],\n",
       "       [0.14586531, 0.85413469],\n",
       "       [0.10521226, 0.89478774],\n",
       "       [0.79148554, 0.20851446],\n",
       "       [0.13269087, 0.86730913],\n",
       "       [0.05226475, 0.94773525],\n",
       "       [0.62758363, 0.37241637],\n",
       "       [0.40125069, 0.59874931],\n",
       "       [0.07308545, 0.92691455],\n",
       "       [0.19866832, 0.80133168],\n",
       "       [0.27884502, 0.72115498],\n",
       "       [0.06334194, 0.93665806],\n",
       "       [0.8166427 , 0.1833573 ],\n",
       "       [0.0881764 , 0.9118236 ],\n",
       "       [0.10068829, 0.89931171],\n",
       "       [0.05560773, 0.94439227],\n",
       "       [0.11315747, 0.88684253],\n",
       "       [0.79214299, 0.20785701],\n",
       "       [0.10713045, 0.89286955],\n",
       "       [0.11943247, 0.88056753],\n",
       "       [0.06031458, 0.93968542],\n",
       "       [0.84838342, 0.15161658],\n",
       "       [0.05364833, 0.94635167],\n",
       "       [0.16297117, 0.83702883],\n",
       "       [0.06821267, 0.93178733],\n",
       "       [0.19805292, 0.80194708],\n",
       "       [0.12186888, 0.87813112],\n",
       "       [0.94398963, 0.05601037],\n",
       "       [0.11872891, 0.88127109],\n",
       "       [0.06308064, 0.93691936],\n",
       "       [0.10571375, 0.89428625],\n",
       "       [0.13264242, 0.86735758],\n",
       "       [0.08368825, 0.91631175],\n",
       "       [0.07914366, 0.92085634],\n",
       "       [0.27623661, 0.72376339],\n",
       "       [0.03313191, 0.96686809],\n",
       "       [0.20051235, 0.79948765],\n",
       "       [0.0491751 , 0.9508249 ],\n",
       "       [0.93800622, 0.06199378],\n",
       "       [0.05584026, 0.94415974],\n",
       "       [0.13228212, 0.86771788],\n",
       "       [0.09412223, 0.90587777],\n",
       "       [0.09503181, 0.90496819],\n",
       "       [0.07318142, 0.92681858],\n",
       "       [0.28026902, 0.71973098],\n",
       "       [0.37646238, 0.62353762],\n",
       "       [0.08306162, 0.91693838],\n",
       "       [0.05194933, 0.94805067],\n",
       "       [0.05463803, 0.94536197],\n",
       "       [0.0859532 , 0.9140468 ],\n",
       "       [0.09624147, 0.90375853],\n",
       "       [0.1766868 , 0.8233132 ],\n",
       "       [0.12316746, 0.87683254],\n",
       "       [0.28246616, 0.71753384],\n",
       "       [0.13889609, 0.86110391],\n",
       "       [0.03467338, 0.96532662],\n",
       "       [0.26659004, 0.73340996],\n",
       "       [0.11559509, 0.88440491],\n",
       "       [0.06682027, 0.93317973],\n",
       "       [0.09816737, 0.90183263],\n",
       "       [0.06274359, 0.93725641],\n",
       "       [0.08145595, 0.91854405],\n",
       "       [0.16027258, 0.83972742],\n",
       "       [0.95952019, 0.04047981],\n",
       "       [0.89398907, 0.10601093],\n",
       "       [0.21692279, 0.78307721],\n",
       "       [0.24034551, 0.75965449],\n",
       "       [0.22404519, 0.77595481],\n",
       "       [0.1085962 , 0.8914038 ],\n",
       "       [0.05267197, 0.94732803],\n",
       "       [0.338127  , 0.661873  ],\n",
       "       [0.04859591, 0.95140409],\n",
       "       [0.7146479 , 0.2853521 ],\n",
       "       [0.18213664, 0.81786336],\n",
       "       [0.07231692, 0.92768308],\n",
       "       [0.09302221, 0.90697779],\n",
       "       [0.07693372, 0.92306628],\n",
       "       [0.1843747 , 0.8156253 ],\n",
       "       [0.10389155, 0.89610845],\n",
       "       [0.42989881, 0.57010119],\n",
       "       [0.88756992, 0.11243008],\n",
       "       [0.18607237, 0.81392763],\n",
       "       [0.05359558, 0.94640442],\n",
       "       [0.09308433, 0.90691567],\n",
       "       [0.18938687, 0.81061313],\n",
       "       [0.32055028, 0.67944972],\n",
       "       [0.22469998, 0.77530002],\n",
       "       [0.06118656, 0.93881344],\n",
       "       [0.28877552, 0.71122448],\n",
       "       [0.14478146, 0.85521854],\n",
       "       [0.06721677, 0.93278323],\n",
       "       [0.20050604, 0.79949396],\n",
       "       [0.16375571, 0.83624429],\n",
       "       [0.17636479, 0.82363521],\n",
       "       [0.06255619, 0.93744381],\n",
       "       [0.09674825, 0.90325175],\n",
       "       [0.07765135, 0.92234865],\n",
       "       [0.18042144, 0.81957856]])"
      ]
     },
     "execution_count": 179,
     "metadata": {},
     "output_type": "execute_result"
    }
   ],
   "source": [
    "lg.predict_proba(cr_test_x)  ##Prediction in probability for each record we get 2 value(Probability  fallin in class 0 & 1)"
   ]
  },
  {
   "cell_type": "code",
   "execution_count": 180,
   "metadata": {},
   "outputs": [
    {
     "data": {
      "text/plain": [
       "array([1, 1, 1, 0, 1, 1, 0, 1, 1, 0, 1, 1, 1, 1, 1, 1, 1, 1, 0, 1, 1, 1,\n",
       "       1, 1, 0, 0, 1, 1, 1, 1, 1, 1, 1, 1, 0, 1, 1, 1, 1, 1, 1, 1, 1, 1,\n",
       "       1, 1, 1, 0, 0, 1, 1, 1, 1, 1, 1, 0, 0, 1, 1, 0, 1, 1, 1, 1, 1, 1,\n",
       "       1, 1, 1, 0, 0, 1, 1, 1, 0, 0, 1, 1, 1, 1, 0, 1, 1, 1, 1, 1, 1, 1,\n",
       "       0, 0, 1, 1, 1, 0, 1, 1, 1, 1, 1, 1, 1, 1, 0, 1, 1, 0, 1, 1, 1, 1,\n",
       "       1, 0, 1, 1, 1, 1, 0, 1, 1, 1, 0, 1, 1, 1, 1, 1, 0, 1, 1, 1, 1, 1,\n",
       "       1, 1, 1, 1, 1, 0, 1, 1, 1, 1, 1, 1, 1, 1, 1, 1, 1, 1, 1, 1, 1, 1,\n",
       "       1, 1, 1, 1, 1, 1, 1, 1, 0, 0, 1, 1, 1, 1, 1, 1, 1, 0, 1, 1, 1, 1,\n",
       "       1, 1, 1, 0, 1, 1, 1, 1, 1, 1, 1, 1, 1, 1, 1, 1, 1, 1, 1, 1, 1],\n",
       "      dtype=int64)"
      ]
     },
     "execution_count": 180,
     "metadata": {},
     "output_type": "execute_result"
    }
   ],
   "source": [
    "pred_test"
   ]
  },
  {
   "cell_type": "code",
   "execution_count": 188,
   "metadata": {},
   "outputs": [],
   "source": [
    "## Build plot AUROC\n",
    "from sklearn.metrics import  roc_auc_score\n",
    "from sklearn.metrics import  roc_curve\n"
   ]
  },
  {
   "cell_type": "code",
   "execution_count": 191,
   "metadata": {},
   "outputs": [
    {
     "data": {
      "text/plain": [
       "0.7303519768563163"
      ]
     },
     "execution_count": 191,
     "metadata": {},
     "output_type": "execute_result"
    }
   ],
   "source": [
    "lg_auc_roc=roc_auc_score(cr_test_y,pred_test)\n",
    "lg_auc_roc"
   ]
  },
  {
   "cell_type": "code",
   "execution_count": 192,
   "metadata": {},
   "outputs": [],
   "source": [
    "prob=lg.predict_proba(cr_test_x) "
   ]
  },
  {
   "cell_type": "code",
   "execution_count": 193,
   "metadata": {},
   "outputs": [
    {
     "data": {
      "text/plain": [
       "array([0.87822706, 0.90406091, 0.84377328, 0.05273407, 0.54581394,\n",
       "       0.91421602, 0.10603326, 0.96742533, 0.92628033, 0.18704972,\n",
       "       0.94688574, 0.9542019 , 0.88389307, 0.72431292, 0.95230902,\n",
       "       0.89516493, 0.85778117, 0.94762689, 0.0398995 , 0.77038562,\n",
       "       0.83335787, 0.89401552, 0.8353222 , 0.94337898, 0.05692183,\n",
       "       0.04980475, 0.83560845, 0.81184403, 0.93148477, 0.87979717,\n",
       "       0.75831566, 0.91580709, 0.74783181, 0.95679508, 0.04839805,\n",
       "       0.86536976, 0.9321077 , 0.70360611, 0.81161453, 0.89920711,\n",
       "       0.61176697, 0.93659839, 0.92754741, 0.82772715, 0.92600534,\n",
       "       0.82565363, 0.51401081, 0.13376964, 0.15734782, 0.59906022,\n",
       "       0.89734089, 0.94264445, 0.94288404, 0.95783233, 0.84864217,\n",
       "       0.05003223, 0.16104595, 0.87613002, 0.83321201, 0.03620513,\n",
       "       0.68699634, 0.85045033, 0.9085964 , 0.87431353, 0.97765287,\n",
       "       0.87534795, 0.70771773, 0.80704396, 0.9128067 , 0.26660794,\n",
       "       0.27677514, 0.89909516, 0.70795554, 0.80494536, 0.25508163,\n",
       "       0.10511189, 0.88352503, 0.80789329, 0.9458025 , 0.84958308,\n",
       "       0.21031917, 0.90663514, 0.81957292, 0.90225208, 0.63437259,\n",
       "       0.87646366, 0.88157136, 0.86581522, 0.18519403, 0.14572301,\n",
       "       0.93049047, 0.86932691, 0.92094077, 0.1472124 , 0.81636359,\n",
       "       0.93175563, 0.89067595, 0.92260629, 0.78461534, 0.85344665,\n",
       "       0.85413469, 0.89478774, 0.20851446, 0.86730913, 0.94773525,\n",
       "       0.37241637, 0.59874931, 0.92691455, 0.80133168, 0.72115498,\n",
       "       0.93665806, 0.1833573 , 0.9118236 , 0.89931171, 0.94439227,\n",
       "       0.88684253, 0.20785701, 0.89286955, 0.88056753, 0.93968542,\n",
       "       0.15161658, 0.94635167, 0.83702883, 0.93178733, 0.80194708,\n",
       "       0.87813112, 0.05601037, 0.88127109, 0.93691936, 0.89428625,\n",
       "       0.86735758, 0.91631175, 0.92085634, 0.72376339, 0.96686809,\n",
       "       0.79948765, 0.9508249 , 0.06199378, 0.94415974, 0.86771788,\n",
       "       0.90587777, 0.90496819, 0.92681858, 0.71973098, 0.62353762,\n",
       "       0.91693838, 0.94805067, 0.94536197, 0.9140468 , 0.90375853,\n",
       "       0.8233132 , 0.87683254, 0.71753384, 0.86110391, 0.96532662,\n",
       "       0.73340996, 0.88440491, 0.93317973, 0.90183263, 0.93725641,\n",
       "       0.91854405, 0.83972742, 0.04047981, 0.10601093, 0.78307721,\n",
       "       0.75965449, 0.77595481, 0.8914038 , 0.94732803, 0.661873  ,\n",
       "       0.95140409, 0.2853521 , 0.81786336, 0.92768308, 0.90697779,\n",
       "       0.92306628, 0.8156253 , 0.89610845, 0.57010119, 0.11243008,\n",
       "       0.81392763, 0.94640442, 0.90691567, 0.81061313, 0.67944972,\n",
       "       0.77530002, 0.93881344, 0.71122448, 0.85521854, 0.93278323,\n",
       "       0.79949396, 0.83624429, 0.82363521, 0.93744381, 0.90325175,\n",
       "       0.92234865, 0.81957856])"
      ]
     },
     "execution_count": 193,
     "metadata": {},
     "output_type": "execute_result"
    }
   ],
   "source": [
    "prob[:,1]"
   ]
  },
  {
   "cell_type": "code",
   "execution_count": 194,
   "metadata": {},
   "outputs": [],
   "source": [
    "fpr,tpr,threshold=roc_curve(cr_test_y, prob[:,1])"
   ]
  },
  {
   "cell_type": "code",
   "execution_count": 195,
   "metadata": {},
   "outputs": [
    {
     "data": {
      "text/plain": [
       "array([0.        , 0.        , 0.01639344, 0.01639344, 0.03278689,\n",
       "       0.03278689, 0.04918033, 0.04918033, 0.06557377, 0.06557377,\n",
       "       0.09836066, 0.09836066, 0.1147541 , 0.1147541 , 0.13114754,\n",
       "       0.13114754, 0.16393443, 0.16393443, 0.18032787, 0.18032787,\n",
       "       0.19672131, 0.19672131, 0.21311475, 0.21311475, 0.2295082 ,\n",
       "       0.2295082 , 0.24590164, 0.24590164, 0.26229508, 0.26229508,\n",
       "       0.27868852, 0.27868852, 0.29508197, 0.29508197, 0.31147541,\n",
       "       0.31147541, 0.32786885, 0.32786885, 0.36065574, 0.36065574,\n",
       "       0.37704918, 0.37704918, 0.39344262, 0.39344262, 0.40983607,\n",
       "       0.40983607, 0.42622951, 0.42622951, 0.50819672, 0.50819672,\n",
       "       0.7704918 , 0.7704918 , 0.83606557, 0.83606557, 1.        ])"
      ]
     },
     "execution_count": 195,
     "metadata": {},
     "output_type": "execute_result"
    }
   ],
   "source": [
    "fpr"
   ]
  },
  {
   "cell_type": "code",
   "execution_count": 196,
   "metadata": {},
   "outputs": [
    {
     "data": {
      "text/plain": [
       "array([0.        , 0.00735294, 0.00735294, 0.02941176, 0.02941176,\n",
       "       0.25      , 0.25      , 0.27941176, 0.27941176, 0.33088235,\n",
       "       0.33088235, 0.38235294, 0.38235294, 0.38970588, 0.38970588,\n",
       "       0.48529412, 0.48529412, 0.59558824, 0.59558824, 0.60294118,\n",
       "       0.60294118, 0.625     , 0.625     , 0.67647059, 0.67647059,\n",
       "       0.75735294, 0.75735294, 0.77941176, 0.77941176, 0.81617647,\n",
       "       0.81617647, 0.84558824, 0.84558824, 0.85294118, 0.85294118,\n",
       "       0.86764706, 0.86764706, 0.875     , 0.875     , 0.88235294,\n",
       "       0.88235294, 0.93382353, 0.93382353, 0.94117647, 0.94117647,\n",
       "       0.95588235, 0.95588235, 0.97058824, 0.97058824, 0.98529412,\n",
       "       0.98529412, 0.99264706, 0.99264706, 1.        , 1.        ])"
      ]
     },
     "execution_count": 196,
     "metadata": {},
     "output_type": "execute_result"
    }
   ],
   "source": [
    "tpr"
   ]
  },
  {
   "cell_type": "code",
   "execution_count": 203,
   "metadata": {},
   "outputs": [
    {
     "data": {
      "image/png": "[encoded data removed]",
      "text/plain": [
       "<Figure size 432x288 with 1 Axes>"
      ]
     },
     "metadata": {
      "needs_background": "light"
     },
     "output_type": "display_data"
    }
   ],
   "source": [
    "import matplotlib.pyplot as plt\n",
    "plt.plot(fpr,tpr)\n",
    "plt.xlabel(\"False Positive Ratio\",size=20)\n",
    "plt.ylabel(\"True Positive Ratio\",size=20)\n",
    "plt.title(\"FPR Vs TPR\",size=20)\n",
    "plt.grid()"
   ]
  },
  {
   "cell_type": "code",
   "execution_count": null,
   "metadata": {},
   "outputs": [],
   "source": []
  }
 ],
 "metadata": {
  "kernelspec": {
   "display_name": "Python 3",
   "language": "python",
   "name": "python3"
  },
  "language_info": {
   "codemirror_mode": {
    "name": "ipython",
    "version": 3
   },
   "file_extension": ".py",
   "mimetype": "text/x-python",
   "name": "python",
   "nbconvert_exporter": "python",
   "pygments_lexer": "ipython3",
   "version": "3.8.5"
  }
 },
 "nbformat": 4,
 "nbformat_minor": 4
}
